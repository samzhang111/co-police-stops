{
 "cells": [
  {
   "cell_type": "code",
   "execution_count": 1,
   "metadata": {
    "collapsed": true
   },
   "outputs": [],
   "source": [
    "import pandas as pd"
   ]
  },
  {
   "cell_type": "code",
   "execution_count": 3,
   "metadata": {
    "collapsed": false
   },
   "outputs": [
    {
     "name": "stderr",
     "output_type": "stream",
     "text": [
      "/usr/local/lib/python2.7/dist-packages/IPython/core/interactiveshell.py:2902: DtypeWarning: Columns (19,20,21) have mixed types. Specify dtype option on import or set low_memory=False.\n",
      "  interactivity=interactivity, compiler=compiler, result=result)\n"
     ]
    }
   ],
   "source": [
    "df = pd.read_csv('/home/sam/data/d4d/CO-clean.csv')"
   ]
  },
  {
   "cell_type": "code",
   "execution_count": 4,
   "metadata": {
    "collapsed": false
   },
   "outputs": [
    {
     "name": "stdout",
     "output_type": "stream",
     "text": [
      "There are 2584744 rows.\n"
     ]
    },
    {
     "data": {
      "text/html": [
       "<div>\n",
       "<style>\n",
       "    .dataframe thead tr:only-child th {\n",
       "        text-align: right;\n",
       "    }\n",
       "\n",
       "    .dataframe thead th {\n",
       "        text-align: left;\n",
       "    }\n",
       "\n",
       "    .dataframe tbody tr th {\n",
       "        vertical-align: top;\n",
       "    }\n",
       "</style>\n",
       "<table border=\"1\" class=\"dataframe\">\n",
       "  <thead>\n",
       "    <tr style=\"text-align: right;\">\n",
       "      <th></th>\n",
       "      <th>id</th>\n",
       "      <th>state</th>\n",
       "      <th>stop_date</th>\n",
       "      <th>stop_time</th>\n",
       "      <th>location_raw</th>\n",
       "      <th>county_name</th>\n",
       "      <th>county_fips</th>\n",
       "      <th>fine_grained_location</th>\n",
       "      <th>police_department</th>\n",
       "      <th>driver_gender</th>\n",
       "      <th>driver_age_raw</th>\n",
       "      <th>driver_age</th>\n",
       "      <th>driver_race_raw</th>\n",
       "      <th>driver_race</th>\n",
       "      <th>violation_raw</th>\n",
       "      <th>violation</th>\n",
       "      <th>search_conducted</th>\n",
       "      <th>search_type_raw</th>\n",
       "      <th>search_type</th>\n",
       "      <th>contraband_found</th>\n",
       "      <th>stop_outcome</th>\n",
       "      <th>is_arrested</th>\n",
       "      <th>officer_id</th>\n",
       "      <th>officer_gender</th>\n",
       "      <th>vehicle_type</th>\n",
       "      <th>out_of_state</th>\n",
       "    </tr>\n",
       "  </thead>\n",
       "  <tbody>\n",
       "    <tr>\n",
       "      <th>0</th>\n",
       "      <td>CO-2010-000001</td>\n",
       "      <td>CO</td>\n",
       "      <td>2010-01-01</td>\n",
       "      <td>00:00</td>\n",
       "      <td>10.0</td>\n",
       "      <td>Arapahoe County</td>\n",
       "      <td>8005.0</td>\n",
       "      <td>289</td>\n",
       "      <td>Golden</td>\n",
       "      <td>F</td>\n",
       "      <td>1990-05-06</td>\n",
       "      <td>19.0</td>\n",
       "      <td>W</td>\n",
       "      <td>White</td>\n",
       "      <td>Vehicle Had (Defective/No) Stop Light(s)</td>\n",
       "      <td>Lights</td>\n",
       "      <td>False</td>\n",
       "      <td>NaN</td>\n",
       "      <td>NaN</td>\n",
       "      <td>False</td>\n",
       "      <td>Verbal Warning</td>\n",
       "      <td>False</td>\n",
       "      <td>1024976.0</td>\n",
       "      <td>M</td>\n",
       "      <td>NA NA 0</td>\n",
       "      <td>False</td>\n",
       "    </tr>\n",
       "    <tr>\n",
       "      <th>1</th>\n",
       "      <td>CO-2010-000002</td>\n",
       "      <td>CO</td>\n",
       "      <td>2010-01-01</td>\n",
       "      <td>00:01</td>\n",
       "      <td>4.0</td>\n",
       "      <td>El Paso County</td>\n",
       "      <td>8041.0</td>\n",
       "      <td>3</td>\n",
       "      <td>Colorado Springs</td>\n",
       "      <td>F</td>\n",
       "      <td>1993-07-30</td>\n",
       "      <td>16.0</td>\n",
       "      <td>W</td>\n",
       "      <td>White</td>\n",
       "      <td>Speeding (5-9 MPH Over Prima Facie Limit *)</td>\n",
       "      <td>Speeding</td>\n",
       "      <td>False</td>\n",
       "      <td>NaN</td>\n",
       "      <td>NaN</td>\n",
       "      <td>False</td>\n",
       "      <td>Verbal Warning</td>\n",
       "      <td>False</td>\n",
       "      <td>1069803.0</td>\n",
       "      <td>NaN</td>\n",
       "      <td>NA NA 0</td>\n",
       "      <td>False</td>\n",
       "    </tr>\n",
       "    <tr>\n",
       "      <th>2</th>\n",
       "      <td>CO-2010-000003</td>\n",
       "      <td>CO</td>\n",
       "      <td>2010-01-01</td>\n",
       "      <td>00:01</td>\n",
       "      <td>24.0</td>\n",
       "      <td>Garfield County</td>\n",
       "      <td>8045.0</td>\n",
       "      <td>3</td>\n",
       "      <td>Glenwood Springs</td>\n",
       "      <td>M</td>\n",
       "      <td>1949-01-28</td>\n",
       "      <td>60.0</td>\n",
       "      <td>W</td>\n",
       "      <td>White</td>\n",
       "      <td>Failed to Drive in Single Lane (Weaving)</td>\n",
       "      <td>Safe movement</td>\n",
       "      <td>False</td>\n",
       "      <td>NaN</td>\n",
       "      <td>NaN</td>\n",
       "      <td>False</td>\n",
       "      <td>Verbal Warning</td>\n",
       "      <td>False</td>\n",
       "      <td>1198321.0</td>\n",
       "      <td>M</td>\n",
       "      <td>NA NA 0</td>\n",
       "      <td>False</td>\n",
       "    </tr>\n",
       "    <tr>\n",
       "      <th>3</th>\n",
       "      <td>CO-2010-000004</td>\n",
       "      <td>CO</td>\n",
       "      <td>2010-01-01</td>\n",
       "      <td>00:02</td>\n",
       "      <td>19.0</td>\n",
       "      <td>Yuma County</td>\n",
       "      <td>8125.0</td>\n",
       "      <td>NaN</td>\n",
       "      <td>Sterling</td>\n",
       "      <td>M</td>\n",
       "      <td>1979-11-30</td>\n",
       "      <td>30.0</td>\n",
       "      <td>W</td>\n",
       "      <td>White</td>\n",
       "      <td>Drove (Motor/Off-highway) Vehicle When License...</td>\n",
       "      <td>License</td>\n",
       "      <td>False</td>\n",
       "      <td>NaN</td>\n",
       "      <td>NaN</td>\n",
       "      <td>False</td>\n",
       "      <td>Citation</td>\n",
       "      <td>False</td>\n",
       "      <td>1167059.0</td>\n",
       "      <td>NaN</td>\n",
       "      <td>Ford F-250 2003</td>\n",
       "      <td>False</td>\n",
       "    </tr>\n",
       "    <tr>\n",
       "      <th>4</th>\n",
       "      <td>CO-2010-000005</td>\n",
       "      <td>CO</td>\n",
       "      <td>2010-01-01</td>\n",
       "      <td>00:02</td>\n",
       "      <td>11.0</td>\n",
       "      <td>Jefferson County</td>\n",
       "      <td>8059.0</td>\n",
       "      <td>NaN</td>\n",
       "      <td>6A</td>\n",
       "      <td>F</td>\n",
       "      <td>1990-01-16</td>\n",
       "      <td>19.0</td>\n",
       "      <td>H</td>\n",
       "      <td>Hispanic</td>\n",
       "      <td>Operated Vehicle With Defective Headlamps</td>\n",
       "      <td>Lights</td>\n",
       "      <td>False</td>\n",
       "      <td>NaN</td>\n",
       "      <td>NaN</td>\n",
       "      <td>False</td>\n",
       "      <td>Written Warning</td>\n",
       "      <td>False</td>\n",
       "      <td>1300790.0</td>\n",
       "      <td>NaN</td>\n",
       "      <td>Oldsmobile Intrigue 1999</td>\n",
       "      <td>False</td>\n",
       "    </tr>\n",
       "  </tbody>\n",
       "</table>\n",
       "</div>"
      ],
      "text/plain": [
       "               id state   stop_date stop_time  location_raw       county_name  \\\n",
       "0  CO-2010-000001    CO  2010-01-01     00:00          10.0   Arapahoe County   \n",
       "1  CO-2010-000002    CO  2010-01-01     00:01           4.0    El Paso County   \n",
       "2  CO-2010-000003    CO  2010-01-01     00:01          24.0   Garfield County   \n",
       "3  CO-2010-000004    CO  2010-01-01     00:02          19.0       Yuma County   \n",
       "4  CO-2010-000005    CO  2010-01-01     00:02          11.0  Jefferson County   \n",
       "\n",
       "   county_fips fine_grained_location police_department driver_gender  \\\n",
       "0       8005.0                   289            Golden             F   \n",
       "1       8041.0                     3  Colorado Springs             F   \n",
       "2       8045.0                     3  Glenwood Springs             M   \n",
       "3       8125.0                   NaN          Sterling             M   \n",
       "4       8059.0                   NaN                6A             F   \n",
       "\n",
       "  driver_age_raw  driver_age driver_race_raw driver_race  \\\n",
       "0     1990-05-06        19.0               W       White   \n",
       "1     1993-07-30        16.0               W       White   \n",
       "2     1949-01-28        60.0               W       White   \n",
       "3     1979-11-30        30.0               W       White   \n",
       "4     1990-01-16        19.0               H    Hispanic   \n",
       "\n",
       "                                       violation_raw      violation  \\\n",
       "0           Vehicle Had (Defective/No) Stop Light(s)         Lights   \n",
       "1        Speeding (5-9 MPH Over Prima Facie Limit *)       Speeding   \n",
       "2           Failed to Drive in Single Lane (Weaving)  Safe movement   \n",
       "3  Drove (Motor/Off-highway) Vehicle When License...        License   \n",
       "4          Operated Vehicle With Defective Headlamps         Lights   \n",
       "\n",
       "   search_conducted search_type_raw search_type contraband_found  \\\n",
       "0             False             NaN         NaN            False   \n",
       "1             False             NaN         NaN            False   \n",
       "2             False             NaN         NaN            False   \n",
       "3             False             NaN         NaN            False   \n",
       "4             False             NaN         NaN            False   \n",
       "\n",
       "      stop_outcome is_arrested  officer_id officer_gender  \\\n",
       "0   Verbal Warning       False   1024976.0              M   \n",
       "1   Verbal Warning       False   1069803.0            NaN   \n",
       "2   Verbal Warning       False   1198321.0              M   \n",
       "3         Citation       False   1167059.0            NaN   \n",
       "4  Written Warning       False   1300790.0            NaN   \n",
       "\n",
       "               vehicle_type out_of_state  \n",
       "0                   NA NA 0        False  \n",
       "1                   NA NA 0        False  \n",
       "2                   NA NA 0        False  \n",
       "3           Ford F-250 2003        False  \n",
       "4  Oldsmobile Intrigue 1999        False  "
      ]
     },
     "execution_count": 4,
     "metadata": {},
     "output_type": "execute_result"
    }
   ],
   "source": [
    "print('''There are {} rows.'''.format(df.shape[0],))\n",
    "\n",
    "pd.set_option('display.max_columns', 50)\n",
    "df.head()"
   ]
  },
  {
   "cell_type": "markdown",
   "metadata": {},
   "source": [
    "It's weird that `stop_outcome` is a variable and is populated, because on the project website the `Stop Outcome` column is unchecked for Colorado."
   ]
  },
  {
   "cell_type": "code",
   "execution_count": 5,
   "metadata": {
    "collapsed": false
   },
   "outputs": [
    {
     "data": {
      "text/plain": [
       "Citation           571111\n",
       "Verbal Warning     467170\n",
       "Written Warning    221422\n",
       "Arrest              36599\n",
       "Name: stop_outcome, dtype: int64"
      ]
     },
     "execution_count": 5,
     "metadata": {},
     "output_type": "execute_result"
    }
   ],
   "source": [
    "df.stop_outcome.value_counts()"
   ]
  },
  {
   "cell_type": "code",
   "execution_count": 7,
   "metadata": {
    "collapsed": false
   },
   "outputs": [
    {
     "data": {
      "text/plain": [
       "False    2575920\n",
       "True        8824\n",
       "Name: search_conducted, dtype: int64"
      ]
     },
     "execution_count": 7,
     "metadata": {},
     "output_type": "execute_result"
    }
   ],
   "source": [
    "df.search_conducted.value_counts()"
   ]
  },
  {
   "cell_type": "code",
   "execution_count": 8,
   "metadata": {
    "collapsed": false
   },
   "outputs": [
    {
     "data": {
      "text/plain": [
       "Golden              283503\n",
       "Colorado Springs    214858\n",
       "Glenwood Springs    178025\n",
       "Pueblo              168734\n",
       "Castle Rock         162683\n",
       "Commerce City       161068\n",
       "Sterling            137091\n",
       "Durango             134750\n",
       "Florence            130982\n",
       "Montrose            129631\n",
       "Evans               118685\n",
       "Fort Collins        118136\n",
       "Craig               105309\n",
       "Alamosa              98633\n",
       "Lamar                93687\n",
       "Fruita               88922\n",
       "6A                   83547\n",
       "6B                   54589\n",
       "6C                   47693\n",
       "6D                   24048\n",
       "Central City         17995\n",
       "Limon                 7938\n",
       "Lakewood              6567\n",
       "Denver                4734\n",
       "10M                   3667\n",
       "8g                     910\n",
       "Centennial             876\n",
       "6D Ga                  565\n",
       "6Z                     480\n",
       "6B3                    398\n",
       "IEU                    281\n",
       "6A Ga                  254\n",
       "2D3                    183\n",
       "4C2                    135\n",
       "6B 3                    50\n",
       "Broomfield              50\n",
       "4B2                     46\n",
       "CALEA                   43\n",
       "6A GA                   35\n",
       "10a                     33\n",
       "ESU                     27\n",
       "ISS                     25\n",
       "4C 3                    25\n",
       "3B 3                    24\n",
       "1A3                     24\n",
       "4C3                     21\n",
       "3B 2                    21\n",
       "2D 2                    20\n",
       "ESU T                   18\n",
       "BIU                     16\n",
       "CIB                     11\n",
       "4C 2                     9\n",
       "Dist                     1\n",
       "Name: police_department, dtype: int64"
      ]
     },
     "execution_count": 8,
     "metadata": {},
     "output_type": "execute_result"
    }
   ],
   "source": [
    "df.police_department.value_counts()"
   ]
  },
  {
   "cell_type": "code",
   "execution_count": 6,
   "metadata": {
    "collapsed": false
   },
   "outputs": [
    {
     "data": {
      "text/plain": [
       "6C                  43221\n",
       "Commerce City       30571\n",
       "Evans                4282\n",
       "Golden               1842\n",
       "Lakewood              383\n",
       "10M                   343\n",
       "Denver                224\n",
       "6A                    188\n",
       "6D                    122\n",
       "6B                    111\n",
       "Fort Collins           85\n",
       "Castle Rock            30\n",
       "ESU                    25\n",
       "Central City           17\n",
       "10a                    11\n",
       "Glenwood Springs        7\n",
       "Craig                   7\n",
       "6Z                      4\n",
       "Pueblo                  3\n",
       "BIU                     3\n",
       "Centennial              2\n",
       "Florence                2\n",
       "Alamosa                 1\n",
       "Name: police_department, dtype: int64"
      ]
     },
     "execution_count": 6,
     "metadata": {},
     "output_type": "execute_result"
    }
   ],
   "source": [
    "boulder_df = df[df['county_name'] == 'Boulder County']\n",
    "\n",
    "boulder_df.police_department.value_counts()"
   ]
  },
  {
   "cell_type": "code",
   "execution_count": 7,
   "metadata": {
    "collapsed": true
   },
   "outputs": [],
   "source": [
    "bpd_df = boulder_df[boulder_df.police_department == '6C']"
   ]
  },
  {
   "cell_type": "code",
   "execution_count": 8,
   "metadata": {
    "collapsed": false
   },
   "outputs": [
    {
     "data": {
      "text/plain": [
       "W    32024\n",
       "H     3303\n",
       "A     1036\n",
       "B      644\n",
       "U      545\n",
       "I       40\n",
       "Name: driver_race_raw, dtype: int64"
      ]
     },
     "execution_count": 8,
     "metadata": {},
     "output_type": "execute_result"
    }
   ],
   "source": [
    "bpd_df.driver_race_raw.value_counts()"
   ]
  },
  {
   "cell_type": "code",
   "execution_count": 9,
   "metadata": {
    "collapsed": false
   },
   "outputs": [
    {
     "data": {
      "text/plain": [
       "W     59646\n",
       "H      6849\n",
       "A      1304\n",
       "B      1239\n",
       "U       714\n",
       "AP      533\n",
       "Z       320\n",
       "I        54\n",
       "AI       14\n",
       "Name: driver_race_raw, dtype: int64"
      ]
     },
     "execution_count": 9,
     "metadata": {},
     "output_type": "execute_result"
    }
   ],
   "source": [
    "boulder_df.driver_race_raw.value_counts()"
   ]
  },
  {
   "cell_type": "code",
   "execution_count": 14,
   "metadata": {
    "collapsed": false,
    "scrolled": true
   },
   "outputs": [
    {
     "data": {
      "text/html": [
       "<div>\n",
       "<style>\n",
       "    .dataframe thead tr:only-child th {\n",
       "        text-align: right;\n",
       "    }\n",
       "\n",
       "    .dataframe thead th {\n",
       "        text-align: left;\n",
       "    }\n",
       "\n",
       "    .dataframe tbody tr th {\n",
       "        vertical-align: top;\n",
       "    }\n",
       "</style>\n",
       "<table border=\"1\" class=\"dataframe\">\n",
       "  <thead>\n",
       "    <tr style=\"text-align: right;\">\n",
       "      <th>stop_outcome</th>\n",
       "      <th>Arrest</th>\n",
       "      <th>Citation</th>\n",
       "      <th>Verbal Warning</th>\n",
       "      <th>Written Warning</th>\n",
       "    </tr>\n",
       "    <tr>\n",
       "      <th>driver_race_raw</th>\n",
       "      <th></th>\n",
       "      <th></th>\n",
       "      <th></th>\n",
       "      <th></th>\n",
       "    </tr>\n",
       "  </thead>\n",
       "  <tbody>\n",
       "    <tr>\n",
       "      <th>A</th>\n",
       "      <td>0.010741</td>\n",
       "      <td>0.377014</td>\n",
       "      <td>0.327605</td>\n",
       "      <td>0.284640</td>\n",
       "    </tr>\n",
       "    <tr>\n",
       "      <th>B</th>\n",
       "      <td>0.026362</td>\n",
       "      <td>0.381371</td>\n",
       "      <td>0.323374</td>\n",
       "      <td>0.268893</td>\n",
       "    </tr>\n",
       "    <tr>\n",
       "      <th>H</th>\n",
       "      <td>0.039737</td>\n",
       "      <td>0.476158</td>\n",
       "      <td>0.251900</td>\n",
       "      <td>0.232205</td>\n",
       "    </tr>\n",
       "    <tr>\n",
       "      <th>I</th>\n",
       "      <td>0.052632</td>\n",
       "      <td>0.315789</td>\n",
       "      <td>0.184211</td>\n",
       "      <td>0.447368</td>\n",
       "    </tr>\n",
       "    <tr>\n",
       "      <th>U</th>\n",
       "      <td>0.013514</td>\n",
       "      <td>0.346847</td>\n",
       "      <td>0.432432</td>\n",
       "      <td>0.207207</td>\n",
       "    </tr>\n",
       "    <tr>\n",
       "      <th>W</th>\n",
       "      <td>0.018565</td>\n",
       "      <td>0.391791</td>\n",
       "      <td>0.291141</td>\n",
       "      <td>0.298503</td>\n",
       "    </tr>\n",
       "  </tbody>\n",
       "</table>\n",
       "</div>"
      ],
      "text/plain": [
       "stop_outcome       Arrest  Citation  Verbal Warning  Written Warning\n",
       "driver_race_raw                                                     \n",
       "A                0.010741  0.377014        0.327605         0.284640\n",
       "B                0.026362  0.381371        0.323374         0.268893\n",
       "H                0.039737  0.476158        0.251900         0.232205\n",
       "I                0.052632  0.315789        0.184211         0.447368\n",
       "U                0.013514  0.346847        0.432432         0.207207\n",
       "W                0.018565  0.391791        0.291141         0.298503"
      ]
     },
     "execution_count": 14,
     "metadata": {},
     "output_type": "execute_result"
    }
   ],
   "source": [
    "pd.crosstab(bpd_df.driver_race_raw, bpd_df.stop_outcome).apply(lambda row: row/row.sum(), axis=1)"
   ]
  },
  {
   "cell_type": "code",
   "execution_count": 13,
   "metadata": {
    "collapsed": false
   },
   "outputs": [
    {
     "data": {
      "text/html": [
       "<div>\n",
       "<style>\n",
       "    .dataframe thead tr:only-child th {\n",
       "        text-align: right;\n",
       "    }\n",
       "\n",
       "    .dataframe thead th {\n",
       "        text-align: left;\n",
       "    }\n",
       "\n",
       "    .dataframe tbody tr th {\n",
       "        vertical-align: top;\n",
       "    }\n",
       "</style>\n",
       "<table border=\"1\" class=\"dataframe\">\n",
       "  <thead>\n",
       "    <tr style=\"text-align: right;\">\n",
       "      <th>stop_outcome</th>\n",
       "      <th>Arrest</th>\n",
       "      <th>Citation</th>\n",
       "      <th>Verbal Warning</th>\n",
       "      <th>Written Warning</th>\n",
       "      <th>All</th>\n",
       "    </tr>\n",
       "    <tr>\n",
       "      <th>driver_race_raw</th>\n",
       "      <th></th>\n",
       "      <th></th>\n",
       "      <th></th>\n",
       "      <th></th>\n",
       "      <th></th>\n",
       "    </tr>\n",
       "  </thead>\n",
       "  <tbody>\n",
       "    <tr>\n",
       "      <th>A</th>\n",
       "      <td>10</td>\n",
       "      <td>351</td>\n",
       "      <td>305</td>\n",
       "      <td>265</td>\n",
       "      <td>931</td>\n",
       "    </tr>\n",
       "    <tr>\n",
       "      <th>B</th>\n",
       "      <td>15</td>\n",
       "      <td>217</td>\n",
       "      <td>184</td>\n",
       "      <td>153</td>\n",
       "      <td>569</td>\n",
       "    </tr>\n",
       "    <tr>\n",
       "      <th>H</th>\n",
       "      <td>115</td>\n",
       "      <td>1378</td>\n",
       "      <td>729</td>\n",
       "      <td>672</td>\n",
       "      <td>2894</td>\n",
       "    </tr>\n",
       "    <tr>\n",
       "      <th>I</th>\n",
       "      <td>2</td>\n",
       "      <td>12</td>\n",
       "      <td>7</td>\n",
       "      <td>17</td>\n",
       "      <td>38</td>\n",
       "    </tr>\n",
       "    <tr>\n",
       "      <th>U</th>\n",
       "      <td>6</td>\n",
       "      <td>154</td>\n",
       "      <td>192</td>\n",
       "      <td>92</td>\n",
       "      <td>444</td>\n",
       "    </tr>\n",
       "    <tr>\n",
       "      <th>W</th>\n",
       "      <td>522</td>\n",
       "      <td>11016</td>\n",
       "      <td>8186</td>\n",
       "      <td>8393</td>\n",
       "      <td>28117</td>\n",
       "    </tr>\n",
       "    <tr>\n",
       "      <th>All</th>\n",
       "      <td>670</td>\n",
       "      <td>13128</td>\n",
       "      <td>9603</td>\n",
       "      <td>9592</td>\n",
       "      <td>32993</td>\n",
       "    </tr>\n",
       "  </tbody>\n",
       "</table>\n",
       "</div>"
      ],
      "text/plain": [
       "stop_outcome     Arrest  Citation  Verbal Warning  Written Warning    All\n",
       "driver_race_raw                                                          \n",
       "A                    10       351             305              265    931\n",
       "B                    15       217             184              153    569\n",
       "H                   115      1378             729              672   2894\n",
       "I                     2        12               7               17     38\n",
       "U                     6       154             192               92    444\n",
       "W                   522     11016            8186             8393  28117\n",
       "All                 670     13128            9603             9592  32993"
      ]
     },
     "execution_count": 13,
     "metadata": {},
     "output_type": "execute_result"
    }
   ],
   "source": [
    "pd.crosstab(bpd_df.driver_race_raw, bpd_df.stop_outcome, margins=True)"
   ]
  },
  {
   "cell_type": "code",
   "execution_count": 22,
   "metadata": {
    "collapsed": false
   },
   "outputs": [
    {
     "data": {
      "text/html": [
       "<div>\n",
       "<style>\n",
       "    .dataframe thead tr:only-child th {\n",
       "        text-align: right;\n",
       "    }\n",
       "\n",
       "    .dataframe thead th {\n",
       "        text-align: left;\n",
       "    }\n",
       "\n",
       "    .dataframe tbody tr th {\n",
       "        vertical-align: top;\n",
       "    }\n",
       "</style>\n",
       "<table border=\"1\" class=\"dataframe\">\n",
       "  <thead>\n",
       "    <tr style=\"text-align: right;\">\n",
       "      <th>stop_outcome</th>\n",
       "      <th>Arrest</th>\n",
       "      <th>Citation</th>\n",
       "      <th>Verbal Warning</th>\n",
       "      <th>Written Warning</th>\n",
       "      <th>All</th>\n",
       "    </tr>\n",
       "    <tr>\n",
       "      <th>driver_race_raw</th>\n",
       "      <th></th>\n",
       "      <th></th>\n",
       "      <th></th>\n",
       "      <th></th>\n",
       "      <th></th>\n",
       "    </tr>\n",
       "  </thead>\n",
       "  <tbody>\n",
       "    <tr>\n",
       "      <th>A</th>\n",
       "      <td>12</td>\n",
       "      <td>437</td>\n",
       "      <td>352</td>\n",
       "      <td>363</td>\n",
       "      <td>1164</td>\n",
       "    </tr>\n",
       "    <tr>\n",
       "      <th>B</th>\n",
       "      <td>18</td>\n",
       "      <td>257</td>\n",
       "      <td>208</td>\n",
       "      <td>243</td>\n",
       "      <td>726</td>\n",
       "    </tr>\n",
       "    <tr>\n",
       "      <th>H</th>\n",
       "      <td>138</td>\n",
       "      <td>1789</td>\n",
       "      <td>847</td>\n",
       "      <td>1037</td>\n",
       "      <td>3811</td>\n",
       "    </tr>\n",
       "    <tr>\n",
       "      <th>I</th>\n",
       "      <td>2</td>\n",
       "      <td>14</td>\n",
       "      <td>13</td>\n",
       "      <td>21</td>\n",
       "      <td>50</td>\n",
       "    </tr>\n",
       "    <tr>\n",
       "      <th>U</th>\n",
       "      <td>10</td>\n",
       "      <td>189</td>\n",
       "      <td>223</td>\n",
       "      <td>142</td>\n",
       "      <td>564</td>\n",
       "    </tr>\n",
       "    <tr>\n",
       "      <th>W</th>\n",
       "      <td>664</td>\n",
       "      <td>13640</td>\n",
       "      <td>9455</td>\n",
       "      <td>11886</td>\n",
       "      <td>35645</td>\n",
       "    </tr>\n",
       "    <tr>\n",
       "      <th>All</th>\n",
       "      <td>844</td>\n",
       "      <td>16326</td>\n",
       "      <td>11098</td>\n",
       "      <td>13692</td>\n",
       "      <td>41960</td>\n",
       "    </tr>\n",
       "  </tbody>\n",
       "</table>\n",
       "</div>"
      ],
      "text/plain": [
       "stop_outcome     Arrest  Citation  Verbal Warning  Written Warning    All\n",
       "driver_race_raw                                                          \n",
       "A                    12       437             352              363   1164\n",
       "B                    18       257             208              243    726\n",
       "H                   138      1789             847             1037   3811\n",
       "I                     2        14              13               21     50\n",
       "U                    10       189             223              142    564\n",
       "W                   664     13640            9455            11886  35645\n",
       "All                 844     16326           11098            13692  41960"
      ]
     },
     "execution_count": 22,
     "metadata": {},
     "output_type": "execute_result"
    }
   ],
   "source": [
    "pd.crosstab(boulder_df.driver_race_raw, boulder_df.stop_outcome, margins=True)"
   ]
  },
  {
   "cell_type": "code",
   "execution_count": 23,
   "metadata": {
    "collapsed": false
   },
   "outputs": [
    {
     "data": {
      "text/html": [
       "<div>\n",
       "<style>\n",
       "    .dataframe thead tr:only-child th {\n",
       "        text-align: right;\n",
       "    }\n",
       "\n",
       "    .dataframe thead th {\n",
       "        text-align: left;\n",
       "    }\n",
       "\n",
       "    .dataframe tbody tr th {\n",
       "        vertical-align: top;\n",
       "    }\n",
       "</style>\n",
       "<table border=\"1\" class=\"dataframe\">\n",
       "  <thead>\n",
       "    <tr style=\"text-align: right;\">\n",
       "      <th>stop_outcome</th>\n",
       "      <th>Arrest</th>\n",
       "      <th>Citation</th>\n",
       "      <th>Verbal Warning</th>\n",
       "      <th>Written Warning</th>\n",
       "    </tr>\n",
       "    <tr>\n",
       "      <th>driver_race_raw</th>\n",
       "      <th></th>\n",
       "      <th></th>\n",
       "      <th></th>\n",
       "      <th></th>\n",
       "    </tr>\n",
       "  </thead>\n",
       "  <tbody>\n",
       "    <tr>\n",
       "      <th>A</th>\n",
       "      <td>0.010309</td>\n",
       "      <td>0.375430</td>\n",
       "      <td>0.302405</td>\n",
       "      <td>0.311856</td>\n",
       "    </tr>\n",
       "    <tr>\n",
       "      <th>B</th>\n",
       "      <td>0.024793</td>\n",
       "      <td>0.353994</td>\n",
       "      <td>0.286501</td>\n",
       "      <td>0.334711</td>\n",
       "    </tr>\n",
       "    <tr>\n",
       "      <th>H</th>\n",
       "      <td>0.036211</td>\n",
       "      <td>0.469431</td>\n",
       "      <td>0.222251</td>\n",
       "      <td>0.272107</td>\n",
       "    </tr>\n",
       "    <tr>\n",
       "      <th>I</th>\n",
       "      <td>0.040000</td>\n",
       "      <td>0.280000</td>\n",
       "      <td>0.260000</td>\n",
       "      <td>0.420000</td>\n",
       "    </tr>\n",
       "    <tr>\n",
       "      <th>U</th>\n",
       "      <td>0.017730</td>\n",
       "      <td>0.335106</td>\n",
       "      <td>0.395390</td>\n",
       "      <td>0.251773</td>\n",
       "    </tr>\n",
       "    <tr>\n",
       "      <th>W</th>\n",
       "      <td>0.018628</td>\n",
       "      <td>0.382662</td>\n",
       "      <td>0.265255</td>\n",
       "      <td>0.333455</td>\n",
       "    </tr>\n",
       "  </tbody>\n",
       "</table>\n",
       "</div>"
      ],
      "text/plain": [
       "stop_outcome       Arrest  Citation  Verbal Warning  Written Warning\n",
       "driver_race_raw                                                     \n",
       "A                0.010309  0.375430        0.302405         0.311856\n",
       "B                0.024793  0.353994        0.286501         0.334711\n",
       "H                0.036211  0.469431        0.222251         0.272107\n",
       "I                0.040000  0.280000        0.260000         0.420000\n",
       "U                0.017730  0.335106        0.395390         0.251773\n",
       "W                0.018628  0.382662        0.265255         0.333455"
      ]
     },
     "execution_count": 23,
     "metadata": {},
     "output_type": "execute_result"
    }
   ],
   "source": [
    "pd.crosstab(boulder_df.driver_race_raw, boulder_df.stop_outcome).apply(lambda row: row/row.sum(), axis=1)"
   ]
  },
  {
   "cell_type": "code",
   "execution_count": 10,
   "metadata": {
    "collapsed": false
   },
   "outputs": [
    {
     "name": "stderr",
     "output_type": "stream",
     "text": [
      "/usr/local/lib/python2.7/dist-packages/ipykernel/__main__.py:1: SettingWithCopyWarning: \n",
      "A value is trying to be set on a copy of a slice from a DataFrame.\n",
      "Try using .loc[row_indexer,col_indexer] = value instead\n",
      "\n",
      "See the caveats in the documentation: http://pandas.pydata.org/pandas-docs/stable/indexing.html#indexing-view-versus-copy\n",
      "  if __name__ == '__main__':\n"
     ]
    }
   ],
   "source": [
    "boulder_df['year'] = boulder_df.stop_date.str.split('-').str.get(0).apply(int)"
   ]
  },
  {
   "cell_type": "code",
   "execution_count": 11,
   "metadata": {
    "collapsed": false
   },
   "outputs": [
    {
     "data": {
      "text/html": [
       "<div>\n",
       "<style>\n",
       "    .dataframe thead tr:only-child th {\n",
       "        text-align: right;\n",
       "    }\n",
       "\n",
       "    .dataframe thead th {\n",
       "        text-align: left;\n",
       "    }\n",
       "\n",
       "    .dataframe tbody tr th {\n",
       "        vertical-align: top;\n",
       "    }\n",
       "</style>\n",
       "<table border=\"1\" class=\"dataframe\">\n",
       "  <thead>\n",
       "    <tr style=\"text-align: right;\">\n",
       "      <th>stop_outcome</th>\n",
       "      <th>Arrest</th>\n",
       "      <th>Citation</th>\n",
       "      <th>Verbal Warning</th>\n",
       "      <th>Written Warning</th>\n",
       "    </tr>\n",
       "    <tr>\n",
       "      <th>year</th>\n",
       "      <th></th>\n",
       "      <th></th>\n",
       "      <th></th>\n",
       "      <th></th>\n",
       "    </tr>\n",
       "  </thead>\n",
       "  <tbody>\n",
       "    <tr>\n",
       "      <th>2010</th>\n",
       "      <td>222</td>\n",
       "      <td>4509</td>\n",
       "      <td>2479</td>\n",
       "      <td>2763</td>\n",
       "    </tr>\n",
       "    <tr>\n",
       "      <th>2011</th>\n",
       "      <td>199</td>\n",
       "      <td>4030</td>\n",
       "      <td>2857</td>\n",
       "      <td>2935</td>\n",
       "    </tr>\n",
       "    <tr>\n",
       "      <th>2012</th>\n",
       "      <td>228</td>\n",
       "      <td>4244</td>\n",
       "      <td>3750</td>\n",
       "      <td>4027</td>\n",
       "    </tr>\n",
       "    <tr>\n",
       "      <th>2013</th>\n",
       "      <td>198</td>\n",
       "      <td>3543</td>\n",
       "      <td>2163</td>\n",
       "      <td>3971</td>\n",
       "    </tr>\n",
       "  </tbody>\n",
       "</table>\n",
       "</div>"
      ],
      "text/plain": [
       "stop_outcome  Arrest  Citation  Verbal Warning  Written Warning\n",
       "year                                                           \n",
       "2010             222      4509            2479             2763\n",
       "2011             199      4030            2857             2935\n",
       "2012             228      4244            3750             4027\n",
       "2013             198      3543            2163             3971"
      ]
     },
     "execution_count": 11,
     "metadata": {},
     "output_type": "execute_result"
    }
   ],
   "source": [
    "pd.crosstab(boulder_df.year, boulder_df.stop_outcome)"
   ]
  },
  {
   "cell_type": "code",
   "execution_count": 18,
   "metadata": {
    "collapsed": false
   },
   "outputs": [
    {
     "data": {
      "text/plain": [
       "Speeding                   20693\n",
       "Safe movement              10848\n",
       "Other                       9139\n",
       "Registration/plates         5609\n",
       "Lights                      4654\n",
       "Other (non-mapped)          1856\n",
       "Truck                       1324\n",
       "Paperwork,Speeding          1260\n",
       "Equipment                    798\n",
       "Paperwork,Safe movement      776\n",
       "Name: violation, dtype: int64"
      ]
     },
     "execution_count": 18,
     "metadata": {},
     "output_type": "execute_result"
    }
   ],
   "source": [
    "boulder_df.violation.value_counts().head(10)"
   ]
  },
  {
   "cell_type": "code",
   "execution_count": 25,
   "metadata": {
    "collapsed": false
   },
   "outputs": [
    {
     "data": {
      "text/html": [
       "<div>\n",
       "<style>\n",
       "    .dataframe thead tr:only-child th {\n",
       "        text-align: right;\n",
       "    }\n",
       "\n",
       "    .dataframe thead th {\n",
       "        text-align: left;\n",
       "    }\n",
       "\n",
       "    .dataframe tbody tr th {\n",
       "        vertical-align: top;\n",
       "    }\n",
       "</style>\n",
       "<table border=\"1\" class=\"dataframe\">\n",
       "  <thead>\n",
       "    <tr style=\"text-align: right;\">\n",
       "      <th>contraband_found</th>\n",
       "      <th>False</th>\n",
       "      <th>True</th>\n",
       "    </tr>\n",
       "    <tr>\n",
       "      <th>driver_race</th>\n",
       "      <th></th>\n",
       "      <th></th>\n",
       "    </tr>\n",
       "  </thead>\n",
       "  <tbody>\n",
       "    <tr>\n",
       "      <th>Asian</th>\n",
       "      <td>3</td>\n",
       "      <td>0</td>\n",
       "    </tr>\n",
       "    <tr>\n",
       "      <th>Black</th>\n",
       "      <td>4</td>\n",
       "      <td>1</td>\n",
       "    </tr>\n",
       "    <tr>\n",
       "      <th>Hispanic</th>\n",
       "      <td>20</td>\n",
       "      <td>11</td>\n",
       "    </tr>\n",
       "    <tr>\n",
       "      <th>White</th>\n",
       "      <td>48</td>\n",
       "      <td>56</td>\n",
       "    </tr>\n",
       "  </tbody>\n",
       "</table>\n",
       "</div>"
      ],
      "text/plain": [
       "contraband_found  False  True \n",
       "driver_race                   \n",
       "Asian                 3      0\n",
       "Black                 4      1\n",
       "Hispanic             20     11\n",
       "White                48     56"
      ]
     },
     "execution_count": 25,
     "metadata": {},
     "output_type": "execute_result"
    }
   ],
   "source": [
    "boulder_search_df = boulder_df[boulder_df.search_conducted == True]\n",
    "boulder_search_df.head()\n",
    "pd.crosstab(boulder_search_df.driver_race, boulder_search_df.contraband_found)"
   ]
  },
  {
   "cell_type": "code",
   "execution_count": 49,
   "metadata": {
    "collapsed": false
   },
   "outputs": [
    {
     "data": {
      "text/plain": [
       "(array([-0.48627866, -0.46595525, -0.40332579, -0.38815037, -0.38758407]),\n",
       " 0.96430000000000005)"
      ]
     },
     "execution_count": 49,
     "metadata": {},
     "output_type": "execute_result"
    }
   ],
   "source": [
    "import numpy as np\n",
    "\n",
    "size = 10000\n",
    "\n",
    "def bayesian_contingency_test(successes_a, failures_a, successes_b, failures_b, size=size):\n",
    "    theta_a = np.random.beta(successes_a + 1, failures_a + 1, size)\n",
    "    theta_b = np.random.beta(successes_b + 1, failures_b + 1, size)\n",
    "    \n",
    "    diff = theta_a - theta_b\n",
    "    \n",
    "    return theta_a, theta_b, diff\n",
    "\n",
    "theta_a, theta_b, diff = bayesian_contingency_test(11, 20, 56, 48)\n",
    "\n",
    "np.percentile(diff, [0.005, 0.025, 0.5, 0.975, 0.995]), np.mean(theta_a < theta_b)"
   ]
  },
  {
   "cell_type": "code",
   "execution_count": 61,
   "metadata": {
    "collapsed": false
   },
   "outputs": [],
   "source": [
    "%matplotlib inline\n",
    "\n",
    "import matplotlib.pyplot as plt\n",
    "import seaborn as sns"
   ]
  },
  {
   "cell_type": "code",
   "execution_count": 89,
   "metadata": {
    "collapsed": false
   },
   "outputs": [
    {
     "data": {
      "text/plain": [
       "<matplotlib.axes._subplots.AxesSubplot at 0x7efd4b71f860>"
      ]
     },
     "execution_count": 89,
     "metadata": {},
     "output_type": "execute_result"
    },
    {
     "data": {
      "image/png": "[encoded data removed]",
      "text/plain": [
       "<matplotlib.figure.Figure at 0x7efd4b71f0b8>"
      ]
     },
     "metadata": {},
     "output_type": "display_data"
    }
   ],
   "source": [
    "plt.suptitle(\"Posterior Simulation of Police Stop Search Success Rates in Boulder County\")\n",
    "\n",
    "plt.xlabel('Percent of searches that discover contraband')\n",
    "sns.kdeplot(theta_b, label=\"White\")\n",
    "sns.kdeplot(theta_a, label=\"Hispanic\")\n"
   ]
  },
  {
   "cell_type": "code",
   "execution_count": 64,
   "metadata": {
    "collapsed": false
   },
   "outputs": [
    {
     "data": {
      "text/plain": [
       "<matplotlib.axes._subplots.AxesSubplot at 0x7efd4bb1ab38>"
      ]
     },
     "execution_count": 64,
     "metadata": {},
     "output_type": "execute_result"
    },
    {
     "data": {
      "image/png": "[encoded data removed]",
      "text/plain": [
       "<matplotlib.figure.Figure at 0x7efd4bb1aba8>"
      ]
     },
     "metadata": {},
     "output_type": "display_data"
    }
   ],
   "source": [
    "plt.suptitle(\"Difference in Police Stop Search Rates\")\n",
    "sns.kdeplot(diff)"
   ]
  },
  {
   "cell_type": "markdown",
   "metadata": {},
   "source": [
    "# Denver Analysis"
   ]
  },
  {
   "cell_type": "code",
   "execution_count": 68,
   "metadata": {
    "collapsed": true
   },
   "outputs": [],
   "source": [
    "denver_counties = {'Denver County','Douglas County', 'Adams County', 'Arapahoe County','Jefferson County','Boulder County','Clear Creek County'}\n",
    "denver_df = df[df.county_name.isin(denver_counties)]\n",
    "denver_search_df = denver_df[denver_df.search_conducted == True]"
   ]
  },
  {
   "cell_type": "code",
   "execution_count": 69,
   "metadata": {
    "collapsed": false
   },
   "outputs": [
    {
     "data": {
      "text/html": [
       "<div>\n",
       "<style>\n",
       "    .dataframe thead tr:only-child th {\n",
       "        text-align: right;\n",
       "    }\n",
       "\n",
       "    .dataframe thead th {\n",
       "        text-align: left;\n",
       "    }\n",
       "\n",
       "    .dataframe tbody tr th {\n",
       "        vertical-align: top;\n",
       "    }\n",
       "</style>\n",
       "<table border=\"1\" class=\"dataframe\">\n",
       "  <thead>\n",
       "    <tr style=\"text-align: right;\">\n",
       "      <th>contraband_found</th>\n",
       "      <th>False</th>\n",
       "      <th>True</th>\n",
       "    </tr>\n",
       "    <tr>\n",
       "      <th>driver_race</th>\n",
       "      <th></th>\n",
       "      <th></th>\n",
       "    </tr>\n",
       "  </thead>\n",
       "  <tbody>\n",
       "    <tr>\n",
       "      <th>Asian</th>\n",
       "      <td>9</td>\n",
       "      <td>10</td>\n",
       "    </tr>\n",
       "    <tr>\n",
       "      <th>Black</th>\n",
       "      <td>64</td>\n",
       "      <td>60</td>\n",
       "    </tr>\n",
       "    <tr>\n",
       "      <th>Hispanic</th>\n",
       "      <td>254</td>\n",
       "      <td>170</td>\n",
       "    </tr>\n",
       "    <tr>\n",
       "      <th>White</th>\n",
       "      <td>380</td>\n",
       "      <td>792</td>\n",
       "    </tr>\n",
       "  </tbody>\n",
       "</table>\n",
       "</div>"
      ],
      "text/plain": [
       "contraband_found  False  True \n",
       "driver_race                   \n",
       "Asian                 9     10\n",
       "Black                64     60\n",
       "Hispanic            254    170\n",
       "White               380    792"
      ]
     },
     "execution_count": 69,
     "metadata": {},
     "output_type": "execute_result"
    }
   ],
   "source": [
    "pd.crosstab(denver_search_df.driver_race, denver_search_df.contraband_found)"
   ]
  },
  {
   "cell_type": "code",
   "execution_count": 71,
   "metadata": {
    "collapsed": true
   },
   "outputs": [],
   "source": [
    "theta_denver_search_h, theta_denver_search_w, diff_search_hw_denver = bayesian_contingency_test(170, 254, 792, 380)\n",
    "theta_denver_search_b, _, diff_search_bw_denver = bayesian_contingency_test(60, 64, 792, 380)"
   ]
  },
  {
   "cell_type": "code",
   "execution_count": 81,
   "metadata": {
    "collapsed": false
   },
   "outputs": [
    {
     "data": {
      "text/plain": [
       "<matplotlib.axes._subplots.AxesSubplot at 0x7efd4b795438>"
      ]
     },
     "execution_count": 81,
     "metadata": {},
     "output_type": "execute_result"
    },
    {
     "data": {
      "image/png": "[encoded data removed]",
      "text/plain": [
       "<matplotlib.figure.Figure at 0x7efd4b7954a8>"
      ]
     },
     "metadata": {},
     "output_type": "display_data"
    }
   ],
   "source": [
    "plt.suptitle(\"Posterior Simulation of Police Stop Search Success Rates in Denver area\")\n",
    "\n",
    "plt.xlabel('Percent of searches that discover contraband')\n",
    "sns.kdeplot(theta_denver_search_w, label=\"White\")\n",
    "sns.kdeplot(theta_denver_search_h, label=\"Hispanic\")\n",
    "sns.kdeplot(theta_denver_search_b, label=\"Black\")"
   ]
  },
  {
   "cell_type": "code",
   "execution_count": 88,
   "metadata": {
    "collapsed": false
   },
   "outputs": [
    {
     "name": "stdout",
     "output_type": "stream",
     "text": [
      "Probability that black people have a lower evidentiary threshold for searches than white people: 1.0\n",
      "Mean difference theta_black - theta_white: -0.19144870625355728\n",
      "\n",
      "Probability that hispanic people have a lower evidentiary threshold for searches than white people: 1.0\n",
      "Mean difference theta_hispanic - theta_white: -0.27439901137640027\n",
      "\n",
      "Probability that hispanic people have a lower evidentiary threshold for searches than black people: 0.9494\n",
      "Mean difference theta_hispanic - theta_black: -0.08284430446049477\n",
      "\n"
     ]
    }
   ],
   "source": [
    "print('''Probability that black people have a lower evidentiary threshold for searches than white people: {}\n",
    "Mean difference theta_black - theta_white: {}\n",
    "\n",
    "Probability that hispanic people have a lower evidentiary threshold for searches than white people: {}\n",
    "Mean difference theta_hispanic - theta_white: {}\n",
    "\n",
    "Probability that hispanic people have a lower evidentiary threshold for searches than black people: {}\n",
    "Mean difference theta_hispanic - theta_black: {}\n",
    "'''.format(\n",
    "        np.mean(theta_denver_search_b < theta_denver_search_w),\n",
    "        np.mean(diff_search_bw_denver),\n",
    "        np.mean(theta_denver_search_h < theta_denver_search_w),\n",
    "        np.mean(diff_search_hw_denver),\n",
    "        np.mean(theta_denver_search_h < theta_denver_search_b),\n",
    "        np.mean(theta_denver_search_h - theta_denver_search_b),\n",
    "    ))"
   ]
  },
  {
   "cell_type": "code",
   "execution_count": 98,
   "metadata": {
    "collapsed": false
   },
   "outputs": [
    {
     "data": {
      "text/plain": [
       "(-0.4062442793340536, -0.28359433029207565, -0.17120181236419002)"
      ]
     },
     "execution_count": 98,
     "metadata": {},
     "output_type": "execute_result"
    }
   ],
   "source": [
    "(np.mean(theta_denver_search_h - theta_denver_search_w) / np.mean(theta_denver_search_w),\n",
    "np.mean(theta_denver_search_b - theta_denver_search_w) / np.mean(theta_denver_search_w),\n",
    "np.mean(theta_denver_search_h - theta_denver_search_b) / np.mean(theta_denver_search_b))"
   ]
  },
  {
   "cell_type": "code",
   "execution_count": 103,
   "metadata": {
    "collapsed": true
   },
   "outputs": [],
   "source": [
    "theta_pct_h_w = (theta_denver_search_h - theta_denver_search_w) / (theta_denver_search_w)\n",
    "theta_pct_b_w = (theta_denver_search_b - theta_denver_search_w) / (theta_denver_search_w)"
   ]
  },
  {
   "cell_type": "code",
   "execution_count": 105,
   "metadata": {
    "collapsed": false
   },
   "outputs": [
    {
     "data": {
      "text/plain": [
       "<matplotlib.axes._subplots.AxesSubplot at 0x7efd4b3ff128>"
      ]
     },
     "execution_count": 105,
     "metadata": {},
     "output_type": "execute_result"
    },
    {
     "data": {
      "image/png": "[encoded data removed]",
      "text/plain": [
       "<matplotlib.figure.Figure at 0x7efd4b3bc518>"
      ]
     },
     "metadata": {},
     "output_type": "display_data"
    }
   ],
   "source": [
    "sns.kdeplot(theta_pct_h_w, label='% less contraband found searching Hispanic vs. White')\n",
    "sns.kdeplot(theta_pct_b_w, label='% less contraband found searching Black vs. White')"
   ]
  },
  {
   "cell_type": "markdown",
   "metadata": {},
   "source": [
    "### Search conducted vs. not conducted (Denver)"
   ]
  },
  {
   "cell_type": "code",
   "execution_count": 90,
   "metadata": {
    "collapsed": false
   },
   "outputs": [
    {
     "data": {
      "text/html": [
       "<div>\n",
       "<style>\n",
       "    .dataframe thead tr:only-child th {\n",
       "        text-align: right;\n",
       "    }\n",
       "\n",
       "    .dataframe thead th {\n",
       "        text-align: left;\n",
       "    }\n",
       "\n",
       "    .dataframe tbody tr th {\n",
       "        vertical-align: top;\n",
       "    }\n",
       "</style>\n",
       "<table border=\"1\" class=\"dataframe\">\n",
       "  <thead>\n",
       "    <tr style=\"text-align: right;\">\n",
       "      <th>search_conducted</th>\n",
       "      <th>False</th>\n",
       "      <th>True</th>\n",
       "    </tr>\n",
       "    <tr>\n",
       "      <th>driver_race</th>\n",
       "      <th></th>\n",
       "      <th></th>\n",
       "    </tr>\n",
       "  </thead>\n",
       "  <tbody>\n",
       "    <tr>\n",
       "      <th>Asian</th>\n",
       "      <td>14057</td>\n",
       "      <td>19</td>\n",
       "    </tr>\n",
       "    <tr>\n",
       "      <th>Black</th>\n",
       "      <td>24968</td>\n",
       "      <td>125</td>\n",
       "    </tr>\n",
       "    <tr>\n",
       "      <th>Hispanic</th>\n",
       "      <td>83038</td>\n",
       "      <td>424</td>\n",
       "    </tr>\n",
       "    <tr>\n",
       "      <th>Other</th>\n",
       "      <td>269</td>\n",
       "      <td>0</td>\n",
       "    </tr>\n",
       "    <tr>\n",
       "      <th>White</th>\n",
       "      <td>451754</td>\n",
       "      <td>1174</td>\n",
       "    </tr>\n",
       "  </tbody>\n",
       "</table>\n",
       "</div>"
      ],
      "text/plain": [
       "search_conducted   False  True \n",
       "driver_race                    \n",
       "Asian              14057     19\n",
       "Black              24968    125\n",
       "Hispanic           83038    424\n",
       "Other                269      0\n",
       "White             451754   1174"
      ]
     },
     "execution_count": 90,
     "metadata": {},
     "output_type": "execute_result"
    }
   ],
   "source": [
    "pd.crosstab(denver_df.driver_race, denver_df.search_conducted)"
   ]
  },
  {
   "cell_type": "code",
   "execution_count": 93,
   "metadata": {
    "collapsed": true
   },
   "outputs": [],
   "source": [
    "theta_denver_search_conducted_h, theta_denver_search_conducted_w, _ = bayesian_contingency_test(424, 83038, 1174, 451754)\n",
    "theta_denver_search_conducted_b, theta_denver_search_conducted_w, _ = bayesian_contingency_test(125, 24968, 1174, 451754)"
   ]
  },
  {
   "cell_type": "code",
   "execution_count": 94,
   "metadata": {
    "collapsed": false
   },
   "outputs": [
    {
     "data": {
      "text/plain": [
       "<matplotlib.axes._subplots.AxesSubplot at 0x7efd4b607898>"
      ]
     },
     "execution_count": 94,
     "metadata": {},
     "output_type": "execute_result"
    },
    {
     "data": {
      "image/png": "[encoded data removed]",
      "text/plain": [
       "<matplotlib.figure.Figure at 0x7efd4b6077b8>"
      ]
     },
     "metadata": {},
     "output_type": "display_data"
    }
   ],
   "source": [
    "plt.suptitle(\"Posterior Simulation of Police Stop Search Rates in Denver area\")\n",
    "\n",
    "sns.kdeplot(theta_denver_search_conducted_w, label='White')\n",
    "sns.kdeplot(theta_denver_search_conducted_h, label='Hispanic')\n",
    "sns.kdeplot(theta_denver_search_conducted_b, label='Black')\n",
    "\n"
   ]
  }
 ],
 "metadata": {
  "kernelspec": {
   "display_name": "Python 3",
   "language": "python",
   "name": "boulder-constituent"
  },
  "language_info": {
   "codemirror_mode": {
    "name": "ipython",
    "version": 3
   },
   "file_extension": ".py",
   "mimetype": "text/x-python",
   "name": "python",
   "nbconvert_exporter": "python",
   "pygments_lexer": "ipython3",
   "version": "3.5.2"
  }
 },
 "nbformat": 4,
 "nbformat_minor": 2
}
